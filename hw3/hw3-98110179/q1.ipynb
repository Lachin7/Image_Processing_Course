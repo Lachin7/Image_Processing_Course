{
 "cells": [
  {
   "cell_type": "markdown",
   "metadata": {
    "collapsed": true,
    "pycharm": {
     "name": "#%% md\n"
    }
   },
   "source": [
    "## Question 1 ##\n",
    "I start by resizing the image to the half of the previous size.\n",
    "Then I continue by blurring to make it more consistent and have less amount of noise in the image.\n",
    "I used canny edge detection method to store the edges in the edge array. In order to find the equivalent coefficients in hough space,\n",
    "I used the range [0, 360) with steps of 2 degree for theta and also an array in size of the diagonal diameter in image for rho.\n",
    "<br>\n",
    "Then I continued by calculating rho for each white pixel(which indicates that it is on a line) and each theta. This results in all lines passing though this point and when I find this line, I increment the value in the index of [rho, theta] in the Accumulator.\n",
    "If an index has a high value, we can conclude that there are reasonable amount of points on it and hence it is a line.\n",
    "Next I set a threshold to find all of these lines. however, some of the lines are somehow the same or they do not belong to the chessboard.\n",
    "So the next step was to remove these lines."
   ]
  },
  {
   "cell_type": "code",
   "execution_count": null,
   "outputs": [],
   "source": [
    "import numpy as np\n",
    "import cv2\n",
    "from matplotlib import pyplot as plt\n",
    "\n",
    "\n",
    "def detectLines(img, i):\n",
    "    img = cv2.resize(img, None, fx=0.5, fy=0.5)\n",
    "    kernel = np.ones((3, 3), np.float32) / 3 ** 2\n",
    "    blurred_img = cv2.filter2D(img, -1, kernel)\n",
    "    edges = cv2.Canny(image=blurred_img, threshold1=350, threshold2=380)\n",
    "    cv2.imwrite(\"../results/res0\" + str(i) + \".jpg\", edges)\n",
    "    plt.imshow(edges)\n",
    "    plt.show()\n",
    "\n",
    "    height, width = edges.shape\n",
    "    theta_size, rho_size = 180, int(np.ceil(np.sqrt(height ** 2 + width ** 2)))\n",
    "    Acc = np.zeros((rho_size, theta_size))\n",
    "    for (y, x) in list(zip(*np.where(edges == 255))):\n",
    "        for t in range(0, theta_size):\n",
    "            xt, yt = x, y\n",
    "            cos = np.cos(np.deg2rad(2*t))\n",
    "            sin = np.sin(np.deg2rad(2*t))\n",
    "            rho = int(xt * cos + yt * sin)\n",
    "            Acc[rho, t] += 1\n",
    "\n",
    "\n",
    "    plt.imshow(img)\n",
    "    cv2.imwrite(\"../results/res0\" + str(i + 4) + \"-lines.jpg\", img)\n",
    "    plt.show()\n",
    "\n",
    "    threshold, cons = 50, 2\n",
    "    (R, T) = np.where(Acc > threshold)\n",
    "    C, S = np.cos(np.deg2rad(2 * T)), np.sin(np.deg2rad(2 * T))\n",
    "\n",
    "    #separate lines:\n",
    "    B, A = np.asarray(R / S, dtype=np.float16), np.asarray(-C / S, dtype=np.float16)\n",
    "\n",
    "\n",
    "\n",
    "detectLines(cv2.imread('../images/im01.jpg'), 1)"
   ],
   "metadata": {
    "collapsed": false,
    "pycharm": {
     "name": "#%%\n"
    }
   }
  },
  {
   "cell_type": "markdown",
   "source": [
    "Then I converted the hough space coefficients to get the slope a and b for x and y. I stored those values in arrays A and B.\n",
    "in order to separate the lines from one another, I need to consider the values in B which are near each other and then select only one.\n",
    "So I sort the arrays based on the args of sorted B and also sicne I want to compare the values in where the image is, I multiplied them by a x value in.\n",
    "One thing we can do is to separate the ones with positive slope(a) and then we need to consider the B valued and then select them in a way that for each range,\n",
    "the one smaller gets selected this removes the top line(redundant one). and Then similarly for the lines with neagative a.\n",
    "another approach is to consider that each targer line, has black and white pixels around it."
   ],
   "metadata": {
    "collapsed": false
   }
  }
 ],
 "metadata": {
  "kernelspec": {
   "display_name": "Python 3",
   "language": "python",
   "name": "python3"
  },
  "language_info": {
   "codemirror_mode": {
    "name": "ipython",
    "version": 2
   },
   "file_extension": ".py",
   "mimetype": "text/x-python",
   "name": "python",
   "nbconvert_exporter": "python",
   "pygments_lexer": "ipython2",
   "version": "2.7.6"
  }
 },
 "nbformat": 4,
 "nbformat_minor": 0
}