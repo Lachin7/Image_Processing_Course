{
 "cells": [
  {
   "cell_type": "markdown",
   "metadata": {
    "collapsed": true,
    "pycharm": {
     "name": "#%% md\n"
    }
   },
   "source": [
    "## Question 2 ##\n",
    "## Texture synthesis ##\n",
    "I used the exact same method described in lectures(12th). Meaning that I started from a random patch(100*100) in the texture and then\n",
    "continued by filling the first row by finding a patch which shared a vertical strip with the initial one. In order to find the best match for this patch, I used the\n",
    "default template match function in cv2. Then I continued to find the best min cut which its left side is from the pixels of the left patch and its right side is from the right one.\n",
    "The general algorithm for when we are not in the first row is mostly the same. except thta the patches should be found horizontally and the min cut is also horizontally when we are at the first column.\n",
    "Moreover, in the general case, We use the L shape so that the next patch to be found share the top and left side of it to the previous ones."
   ]
  },
  {
   "cell_type": "code",
   "execution_count": null,
   "outputs": [],
   "source": [
    "import cv2\n",
    "import numpy as np\n",
    "import random\n",
    "\n",
    "\n",
    "def synthesize(image, res_name):\n",
    "    # first choose a random patch:\n",
    "    texture = image\n",
    "    height, width, _ = texture.shape\n",
    "    patch_size, strip_size, diff = 100, 20, 80\n",
    "    h_start_index, w_start_index = random.randint(0, height - patch_size), random.randint(0, width - patch_size)\n",
    "    patch = texture[h_start_index: h_start_index + patch_size, w_start_index: w_start_index + patch_size, :]\n",
    "\n",
    "    result = np.zeros((2500, 2500, 3))\n",
    "    result[0: patch_size, 0: patch_size, :] = patch\n",
    "\n",
    "    for i in range(0, 31):\n",
    "        for j in range(0, 31):\n",
    "            if i == 0 and j != 0:\n",
    "                adjacent_v_patch = result[0: patch_size, j * diff + strip_size - patch_size: j * diff + strip_size, :]\n",
    "                new_patch = matchPatch(texture, adjacent_v_patch, strip_size, patch_size, direction=0)\n",
    "                min_cut_strip = findMinCutPatch(adjacent_v_patch, new_patch, strip_size, direction=0)\n",
    "                result[0:patch_size, j * diff: j * diff + strip_size, :] = min_cut_strip\n",
    "                result[0:patch_size, j * diff + strip_size: j * diff + patch_size, :] = new_patch[:, strip_size:, :]\n",
    "            if i != 0 and j == 0:\n",
    "                adjacent_h_patch = result[i * diff + strip_size - patch_size: i * diff + strip_size, 0: patch_size, :]\n",
    "                new_patch = matchPatch(texture, adjacent_h_patch, strip_size, patch_size, direction=1)\n",
    "                min_cut_strip = findMinCutPatch(adjacent_h_patch, new_patch, strip_size, direction=1)\n",
    "                result[i * diff: i * diff + strip_size, 0:patch_size, :] = min_cut_strip\n",
    "                result[i * diff + strip_size: i * diff + patch_size, 0:patch_size, :] = new_patch[strip_size:, :, :]\n",
    "            elif i != 0 and j != 0:\n",
    "                adjacent_tc_patch = result[diff * i: diff * i + patch_size, diff * j: diff * j + patch_size, :]\n",
    "                new_patch = matchPatch(texture, adjacent_tc_patch, strip_size, patch_size, direction=2)\n",
    "                min_cut_patch = findMinCutPatch(adjacent_tc_patch, new_patch, strip_size, direction=2)\n",
    "                result[diff * i: diff * i + patch_size, diff * j: diff * j + patch_size, :] = min_cut_patch\n",
    "\n",
    "    res = np.zeros((2500, 2500 + texture.shape[1] + 300))\n",
    "    res[:,:2500,:] = result\n",
    "    res[300:texture.shape[0], 2500 + 100 + texture.shape[1], :] = texture\n",
    "    cv2.imwrite(\"../results/\" + res_name + \".jpg\", result)"
   ],
   "metadata": {
    "collapsed": false,
    "pycharm": {
     "name": "#%%\n"
    }
   }
  },
  {
   "cell_type": "markdown",
   "source": [
    "As described above, I used the inbuilt function in cv2 to find the best patch. However,\n",
    "I don't just go for one best match, instead I choose from some of the best ones ranomly and\n",
    "the way that it is done is by the help of findRandomMin function which\n",
    "sorts the output x and y locations and then checks if they are valid (since the strip is a part of the next patch which is to\n",
    "be selected hence we should consider the valid coordinates for that)."
   ],
   "metadata": {
    "collapsed": false
   }
  },
  {
   "cell_type": "code",
   "execution_count": null,
   "outputs": [],
   "source": [
    "def matchPatch(texture, patch, strip_size, patch_size, direction=0):\n",
    "    texture, patch = texture.astype(np.float32), patch.astype(np.float32)\n",
    "    mask, limit_y, limit_x = np.zeros(patch.shape, dtype=np.float32), None, None\n",
    "    if direction == 0:\n",
    "        result, limit_x = cv2.matchTemplate(texture, patch[:, -strip_size:, :], 1), texture.shape[1] - patch_size\n",
    "    elif direction == 1:\n",
    "        result, limit_y = cv2.matchTemplate(texture, patch[-strip_size:, :, :], 1), texture.shape[0] - patch_size\n",
    "    else:\n",
    "        mask[0:strip_size, 0:strip_size, :] = 1\n",
    "        result, limit_y = cv2.matchTemplate(texture, patch, 1, mask=mask), texture.shape[0]\n",
    "    ry, rx = findRandomMin(result, 5, limit_y, limit_x)\n",
    "    return texture[ry:ry + patch_size, rx:rx + patch_size, :]"
   ],
   "metadata": {
    "collapsed": false,
    "pycharm": {
     "name": "#%%\n"
    }
   }
  },
  {
   "cell_type": "code",
   "execution_count": null,
   "outputs": [],
   "source": [
    "def findRandomMin(result, num, limit_y, limit_x):\n",
    "    idx = result.ravel().argsort()[:num]\n",
    "    locations = np.stack(np.unravel_index(idx, result.shape)).T\n",
    "    if limit_y is not None:\n",
    "        indices = np.where(locations[:, 0] < limit_y)\n",
    "    elif limit_x is not None:\n",
    "        indices = np.where(locations[:, 1] < limit_x)\n",
    "    yLoc, xLoc = np.zeros(indices[0].size, int), np.zeros(indices[0].size, int)\n",
    "    for i in range(yLoc.shape[0]):\n",
    "        yLoc[i], xLoc[i] = locations[indices[0][i], 0], locations[indices[0][i], 1]\n",
    "    if yLoc.shape[0] == 0:\n",
    "        return findRandomMin(result, num + 1, limit_y, limit_x)\n",
    "    else:\n",
    "        r = np.random.randint(0, yLoc.shape[0])\n",
    "        return yLoc[r], xLoc[r]"
   ],
   "metadata": {
    "collapsed": false,
    "pycharm": {
     "name": "#%%\n"
    }
   }
  },
  {
   "cell_type": "markdown",
   "source": [
    "finding the min cut is separated for each of the directions (horizontally, vertically and both).\n",
    "They all use the same function with minor changes. In the horizontal direction, we simply get the mask array(array of 0s and 1s)\n",
    "from makeMinCutHorizontallyMask function and apply it to the strips. It is the same fot vertical direction\n",
    "except that I rotated the strips 90 degrees counter clock wise and then again rotate the result 90deg clockwise.\n",
    "For the L shape direction, I used the mask for top and left strips as above and then calculated the OR of these arrays.\n",
    "Finally, applied the masks to the strips and replaced the strip in the targeted place."
   ],
   "metadata": {
    "collapsed": false
   }
  },
  {
   "cell_type": "code",
   "execution_count": null,
   "outputs": [],
   "source": [
    "def findMinCutPatch(patch1, patch2, strip_size, direction=0):\n",
    "    if direction == 1:\n",
    "        strip1, strip2 = patch1[-strip_size:, :, :], patch2[:strip_size, :, :]\n",
    "        mask = makeMinCutHorizontallyMask(strip1, strip2)\n",
    "        return strip1 * mask + strip2 * (1 - mask)\n",
    "    elif direction == 0:\n",
    "        strip1, strip2 = patch1[:, -strip_size:, :], patch2[:, :strip_size, :]\n",
    "        mask = np.rot90(makeMinCutHorizontallyMask(np.rot90(strip1, -1), np.rot90(strip2, -1)), 1)\n",
    "        return strip1 * mask + strip2 * (1 - mask)\n",
    "    else:\n",
    "        mask_h, mask_v = np.zeros(patch2.shape), np.zeros(patch2.shape)\n",
    "        strip1, strip2 = patch1[:strip_size, :, :], patch2[:strip_size, :, :]\n",
    "        mask_h[:strip_size, :, :] = makeMinCutHorizontallyMask(strip1, strip2)\n",
    "        strip3, strip4 = patch1[:, :strip_size, :], patch2[:, :strip_size, :]\n",
    "        mask_v[:, :strip_size, :] = np.rot90(makeMinCutHorizontallyMask(np.rot90(strip3, -1), np.rot90(strip4, -1)), 1)\n",
    "        mask = np.logical_or(mask_v, mask_h)\n",
    "        return patch1 * mask + patch2 * (1 - mask)"
   ],
   "metadata": {
    "collapsed": false,
    "pycharm": {
     "name": "#%%\n"
    }
   }
  },
  {
   "cell_type": "markdown",
   "source": [
    "The details of finding the min cut mask are the same as the lecture notes.\n",
    "I first calculated the difference array of two strips and then made a cost and path arrays.\n",
    "the first column of cost array contains the same values as the first column of difference array.\n",
    "for each of the elements in the next column I find the best element is the left side colomn which minimize the cost and then\n",
    "store the neighbor in the path array. I continue this where I finally reach the last column. find the min value in it (it should say\n",
    "which row to start in the last column) and then use the path array to find our which row to go in the next column.\n"
   ],
   "metadata": {
    "collapsed": false
   }
  },
  {
   "cell_type": "code",
   "execution_count": null,
   "outputs": [],
   "source": [
    "def makeMinCutHorizontallyMask(strip1, strip2):\n",
    "    difference = np.sum(np.abs(strip1 - strip2), axis=2)\n",
    "\n",
    "    cost, path = np.zeros(difference.shape, dtype=np.int16), np.zeros(difference.shape, dtype=np.int16)\n",
    "    cost[:, 0] = difference[:, 0]\n",
    "\n",
    "    for j in range(1, difference.shape[1]):\n",
    "        for i in range(difference.shape[0]):\n",
    "            min_val, res_neighbor = 100000000, 0\n",
    "            for neighbor in -1, 0, 1:\n",
    "                if 0 <= i - neighbor < difference.shape[0]:\n",
    "                    if cost[i - neighbor, j - 1] < min_val:\n",
    "                        min_val, res_neighbor = cost[i - neighbor, j - 1], neighbor\n",
    "            cost[i, j] = min_val + difference[i, j]\n",
    "            path[i, j - 1] = i - res_neighbor\n",
    "    min_i = (np.where(cost[:, cost.shape[1] - 1] == np.amin(cost[:, cost.shape[1] - 1])))[0][0]\n",
    "    mask = np.zeros(strip1.shape)\n",
    "\n",
    "    for col in range(path.shape[1] - 1, 0, -1):\n",
    "        mask[:min_i, col, :] = 1\n",
    "        min_i = path[min_i, col - 1]\n",
    "    return mask"
   ],
   "metadata": {
    "collapsed": false,
    "pycharm": {
     "name": "#%%\n"
    }
   }
  }
 ],
 "metadata": {
  "kernelspec": {
   "display_name": "Python 3",
   "language": "python",
   "name": "python3"
  },
  "language_info": {
   "codemirror_mode": {
    "name": "ipython",
    "version": 2
   },
   "file_extension": ".py",
   "mimetype": "text/x-python",
   "name": "python",
   "nbconvert_exporter": "python",
   "pygments_lexer": "ipython2",
   "version": "2.7.6"
  }
 },
 "nbformat": 4,
 "nbformat_minor": 0
}