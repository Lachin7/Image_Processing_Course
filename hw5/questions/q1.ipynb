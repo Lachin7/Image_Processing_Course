{
 "cells": [
  {
   "cell_type": "markdown",
   "metadata": {
    "collapsed": true,
    "pycharm": {
     "name": "#%% md\n"
    }
   },
   "source": [
    "<h1 style=\"color:#8B66FF;\">Question 1</h1>\n",
    "<h2 style=\"color:#659FFF;\">Morphing</h2>\n",
    "This is the implementation of morphing algorithm used for two morph two sample faces in a way that starting from the first face,\n",
    "gradually it changes to the second one in a given time interval (3s here).\n",
    "<h3 style=\"color:#659F1F;\">Input correspondences at key feature points</h3>\n",
    "First I started by storing the coresponging points for the main features of faces in a file (Points.txt).\n",
    "Then read the points from this file using readPoints function and the  stored the points in first and second image in pts_1, pts_2 respectively."
   ]
  },
  {
   "cell_type": "code",
   "execution_count": null,
   "outputs": [],
   "source": [
    "import math\n",
    "import numpy as np\n",
    "\n",
    "\n",
    "def readPoints():  # read the points from file:\n",
    "    with open(\"../images/Points.txt\", \"r\") as file:\n",
    "        n = int(file.readline())\n",
    "        pts_1, pts_2 = np.ndarray((int(n / 2), 2), dtype=float), np.ndarray((int(n / 2), 2), dtype=float)\n",
    "        lines = file.readlines()[0:]\n",
    "        for i in range(n):\n",
    "            values = lines[i].split()\n",
    "            j = math.floor(i / 2)\n",
    "            if i % 2 == 0: # the even lines are for the first image\n",
    "                pts_1[j, 0], pts_1[j, 1] = float(values[1]), float(values[0])\n",
    "            else: # the odd lines are for the second image\n",
    "                pts_2[j, 0], pts_2[j, 1] = float(values[1]), float(values[0])\n",
    "\n",
    "    file.close()\n",
    "    return pts_1, pts_2, int(n / 2)"
   ],
   "metadata": {
    "collapsed": false,
    "pycharm": {
     "name": "#%%\n"
    }
   }
  },
  {
   "cell_type": "markdown",
   "source": [
    "<h3 style=\"color:#659F1F;\">Define a triangular mesh over the points</h3>\n",
    "Now for triangulation, I used the inbuilt function in scipy. Notice that we should use the same mesh(triangulation) in both images.\n",
    "This way, we have the triangle-to-triangle correspondence."
   ],
   "metadata": {
    "collapsed": false
   }
  },
  {
   "cell_type": "code",
   "execution_count": null,
   "outputs": [],
   "source": [
    "from scipy.spatial import Delaunay\n",
    "\n",
    "pts_1, pts_2, n = readPoints()\n",
    "tri = Delaunay(pts_1)\n"
   ],
   "metadata": {
    "collapsed": false,
    "pycharm": {
     "name": "#%%\n"
    }
   }
  },
  {
   "cell_type": "markdown",
   "source": [
    "<h3 style=\"color:#659F1F;\">create a morphing sequence</h3>\n",
    "First consider a time interval and then convert it to the [0, 1]\n",
    "interval. At each step t, create an intermediate shape (by interpolation using (1 - t) * pts_1 + t * pts_2)"
   ],
   "metadata": {
    "collapsed": false
   }
  },
  {
   "cell_type": "code",
   "execution_count": null,
   "outputs": [],
   "source": [
    "for frame in range(1, 46):\n",
    "    t = (frame - 1) / 44\n",
    "    interpolation_pts = (1 - t) * pts_1 + t * pts_2\n",
    "    res = np.zeros((h1, w1, 3))\n",
    "    interpolate()\n",
    "    out.write(res.astype(np.uint8))\n",
    "    results.append(res.astype(np.uint8))\n",
    "\n"
   ],
   "metadata": {
    "collapsed": false,
    "pycharm": {
     "name": "#%%\n"
    }
   }
  },
  {
   "cell_type": "markdown",
   "source": [
    "<h3 style=\"color:#659F1F;\">Interpolate the triangles</h3>\n",
    "I did this in interpolate function. First find the corresponding triangles in each image and in the average shape.\n",
    "Then get the affine projection to the corresponding triangles in each image (Affine warp with three corresponding points), but before i do this, I used a rectangle around each\n",
    "triangle to do this more efficiently. Then for each pixel in the triangle, find the corresponding points in each image and set value to\n",
    "weighted average.\n"
   ],
   "metadata": {
    "collapsed": false,
    "pycharm": {
     "name": "#%% md\n"
    }
   }
  },
  {
   "cell_type": "code",
   "execution_count": null,
   "outputs": [],
   "source": [
    "def interpolate():\n",
    "    tris_1 = (pts_1[tri.simplices]).astype(int)\n",
    "    tris_2 = (pts_2[tri.simplices]).astype(int)\n",
    "    tris_res = (interpolation_pts[tri.simplices]).astype(int)\n",
    "\n",
    "    for i in range(tris_1.shape[0]):\n",
    "        tri_1, tri_2, tri_res = tris_1[i, :], tris_2[i, :], tris_res[i, :]\n",
    "\n",
    "        rec_1, rec_2, (x, y, w, h) = cv2.boundingRect(tri_1), cv2.boundingRect(tri_2), cv2.boundingRect(tri_res)\n",
    "\n",
    "        tri_1[:, 0], tri_1[:, 1] = tri_1[:, 0] - rec_1[0], tri_1[:, 1] - rec_1[1]\n",
    "        tri_2[:, 0], tri_2[:, 1] = tri_2[:, 0] - rec_2[0], tri_2[:, 1] - rec_2[1]\n",
    "        tri_res[:, 0], tri_res[:, 1] = tri_res[:, 0] - x, tri_res[:, 1] - y\n",
    "\n",
    "        img_rec_1 = img_1[rec_1[1]: rec_1[1] + rec_1[3], rec_1[0]: rec_1[0] + rec_1[2]]\n",
    "        img_rec_2 = img_2[rec_2[1]: rec_2[1] + rec_2[3], rec_2[0]: rec_2[0] + rec_2[2]]\n",
    "        mask = np.zeros((h, w, 3))\n",
    "        cv2.fillConvexPoly(mask, tri_res.astype(np.int32), (1.0, 1.0, 1.0), 16, 0)\n",
    "\n",
    "        # find the affine transform:\n",
    "        size = (w, h)\n",
    "        warp_mat_1 = cv2.getAffineTransform(np.float32(tri_1), np.float32(tri_res))\n",
    "        warped1 = cv2.warpAffine(img_rec_1, warp_mat_1, size, None, flags=cv2.INTER_AREA, borderMode=cv2.BORDER_REFLECT)\n",
    "\n",
    "        warp_mat_2 = cv2.getAffineTransform(np.float32(tri_2), np.float32(tri_res))\n",
    "        warped2 = cv2.warpAffine(img_rec_2, warp_mat_2, size, None, flags=cv2.INTER_AREA, borderMode=cv2.BORDER_REFLECT)\n",
    "\n",
    "        interpolated_warp = (1 - t) * warped1 + t * warped2\n",
    "\n",
    "        res[y:y + h, x:x + w] = res[y:y + h, x:x + w] * (1 - mask) + interpolated_warp * mask"
   ],
   "metadata": {
    "collapsed": false,
    "pycharm": {
     "name": "#%%\n"
    }
   }
  },
  {
   "cell_type": "markdown",
   "source": [
    "I saved the image in each iteration and used cv2.VideoWriter to make a video out of those images."
   ],
   "metadata": {
    "collapsed": false
   }
  }
 ],
 "metadata": {
  "kernelspec": {
   "display_name": "Python 3",
   "language": "python",
   "name": "python3"
  },
  "language_info": {
   "codemirror_mode": {
    "name": "ipython",
    "version": 2
   },
   "file_extension": ".py",
   "mimetype": "text/x-python",
   "name": "python",
   "nbconvert_exporter": "python",
   "pygments_lexer": "ipython2",
   "version": "2.7.6"
  }
 },
 "nbformat": 4,
 "nbformat_minor": 0
}