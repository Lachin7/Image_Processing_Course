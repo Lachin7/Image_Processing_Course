{
 "cells": [
  {
   "cell_type": "markdown",
   "metadata": {
    "collapsed": true,
    "pycharm": {
     "name": "#%% md\n"
    }
   },
   "source": [
    "<h1 style=\"color:#8B66FF;\">Question 4</h1>\n",
    "<h2 style=\"color:#659FFF;\"></h2>\n",
    "I resized the image and then used felzenszwalb segementation algorithm on it.\n",
    "I tried different parameters for this function and concluded that scale=800, sigma=0.6, min_size=100 produced the\n",
    "best results for this example (although I test this for many different parameters, I did not manage to find the two birds in the left part of the image).\n",
    "<br>\n",
    "In this stage we have the segmented image and the number of segements."
   ]
  },
  {
   "cell_type": "code",
   "execution_count": null,
   "outputs": [],
   "source": [
    "image = cv2.imread(\"../images/birds.jpg\")\n",
    "scale = 0.25\n",
    "resized_img = cv2.resize(image, (0, 0), fx=scale, fy=scale)\n",
    "height, width, _ = resized_img.shape\n",
    "# apply the felzenszwalb method to do image segmentation\n",
    "# scale=800, sigma=0.6, min_size=100 # scale=50, sigma=0.5, min_size=100\n",
    "segmented_img = skimage.segmentation.felzenszwalb(resized_img, scale=800, sigma=0.6, min_size=100)\n",
    "segments_num = np.max(segmented_img) + 1\n",
    "hsv_img = cv2.cvtColor(resized_img, cv2.COLOR_BGR2HSV)"
   ],
   "metadata": {
    "collapsed": false,
    "pycharm": {
     "name": "#%%\n"
    }
   }
  },
  {
   "cell_type": "markdown",
   "source": [
    "Next I continued to compare all this segments to a sample bird segment:"
   ],
   "metadata": {
    "collapsed": false
   }
  },
  {
   "cell_type": "code",
   "execution_count": null,
   "outputs": [],
   "source": [
    "result = np.zeros(resized_img.shape, dtype='uint8')\n",
    "bird_sample = (int(2167 * scale), int(1078 * scale))"
   ],
   "metadata": {
    "collapsed": false,
    "pycharm": {
     "name": "#%%\n"
    }
   }
  },
  {
   "cell_type": "markdown",
   "source": [
    "I compared these segments with the help of a feature vector. I found the difference between them and\n",
    "used the ones which werer more similar to the sample bird. The lines commented in here, helped me identify this threshold and\n",
    "the coeffs for each feature."
   ],
   "metadata": {
    "collapsed": false
   }
  },
  {
   "cell_type": "code",
   "execution_count": null,
   "outputs": [],
   "source": [
    "target_num = segmented_img[bird_point]\n",
    "sample_bird_feature = make_feature_vector(target_num)\n",
    "threshold = 0.08\n",
    "diffs = np.empty(0, dtype=float)\n",
    "for k in range(segments_num):\n",
    "    feature = make_feature_vector(k)\n",
    "    diff = difference(feature, sample_bird_feature)\n",
    "    diffs = np.append(diffs, diff)\n",
    "    if diff < threshold:\n",
    "        segment = segmented_img == k\n",
    "        where = np.argwhere(segment)\n",
    "        result[segmented_img == k] = resized_img[segmented_img == k]\n",
    "        # cv2.rectangle(result, (where[:, 1].min(), where[:, 0].min()), (where[:, 1].max(), where[:, 0].max()),\n",
    "        #               (0, 0, 255), 2)\n",
    "        # cv2.putText(result, str(diff), (where[:, 1].min(), where[:, 0].min()), cv2.FONT_HERSHEY_SIMPLEX, 0.3,\n",
    "        #             (36, 255, 12), 1)\n",
    "        # print(str(feature) + \"  \" + str(diff))"
   ],
   "metadata": {
    "collapsed": false,
    "pycharm": {
     "name": "#%%\n"
    }
   }
  },
  {
   "cell_type": "markdown",
   "source": [
    "The feature vector consist of various properties of the pixels in that segment. Including\n",
    "the hsv average, rgb average, the y coordinate, g(green) value, s(saturation) the size of the rectangle and the actual size of it.\n",
    "I also noticed that it is better to give much more weight coeff to size2 and y."
   ],
   "metadata": {
    "collapsed": false
   }
  },
  {
   "cell_type": "code",
   "execution_count": null,
   "outputs": [],
   "source": [
    "def make_feature_vector(segment_num):\n",
    "    segment = (segmented_img == segment_num)\n",
    "    hsv_av = (np.average(hsv_img[segment]) - np.average(hsv_img)) / np.std(hsv_img)\n",
    "    rgb_av = (np.average(resized_img[segment]) - np.average(resized_img)) / np.std(resized_img)\n",
    "    y_av = (np.average(np.argwhere(segment)[:, 0]) - height / 2) / height\n",
    "    g_av = (np.average(resized_img[segment][:, 1]) - np.average(resized_img[:, :, 1])) / np.std(resized_img[:, :, 1])\n",
    "    s_av = (np.average(hsv_img[segment][:, 1]) - np.average(hsv_img[:, :, 1])) / np.std(hsv_img[:, :, 1])\n",
    "    location = np.argwhere(segment)\n",
    "\n",
    "    size1 = ((location[:, 0].max() - location[:, 0].min()) * (\n",
    "            location[:, 1].max() - location[:, 1].min())) / 7500\n",
    "    size2 = np.count_nonzero(segment) / 1000\n",
    "    return [hsv_av, rgb_av, 3 * y_av, g_av, s_av, size1, 2 * size2]"
   ],
   "metadata": {
    "collapsed": false,
    "pycharm": {
     "name": "#%%\n"
    }
   }
  }
 ],
 "metadata": {
  "kernelspec": {
   "display_name": "Python 3",
   "language": "python",
   "name": "python3"
  },
  "language_info": {
   "codemirror_mode": {
    "name": "ipython",
    "version": 2
   },
   "file_extension": ".py",
   "mimetype": "text/x-python",
   "name": "python",
   "nbconvert_exporter": "python",
   "pygments_lexer": "ipython2",
   "version": "2.7.6"
  }
 },
 "nbformat": 4,
 "nbformat_minor": 0
}