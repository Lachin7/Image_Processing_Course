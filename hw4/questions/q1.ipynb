{
 "cells": [
  {
   "cell_type": "markdown",
   "metadata": {
    "collapsed": true,
    "pycharm": {
     "name": "#%% md\n"
    }
   },
   "source": [
    "<h1 style=\"color:#8B66FF;\">Question 1</h1>\n",
    "<h2 style=\"color:#659FFF;\">K-means</h2>\n",
    "This is the implementation of k-means algorithm for image clustering. First I start by reading the\n",
    "sample points from a file(Points.txt):"
   ]
  },
  {
   "cell_type": "code",
   "execution_count": 11,
   "outputs": [
    {
     "data": {
      "text/plain": "<Figure size 432x288 with 1 Axes>",
      "image/png": "[encoded data removed]"
     },
     "metadata": {
      "needs_background": "light"
     },
     "output_type": "display_data"
    }
   ],
   "source": [
    "from matplotlib import pyplot as plt\n",
    "import numpy as np\n",
    "\n",
    "def readPoints():\n",
    "    # read the points from file:\n",
    "    with open(\"../images/Points.txt\", \"r\") as file:\n",
    "        n = int(file.readline())\n",
    "        x, y = np.zeros((n, 1), dtype=float), np.zeros((n, 1), dtype=float)\n",
    "        lines = file.readlines()[0:]\n",
    "        for i in range(len(lines)):\n",
    "            values = lines[i].split()\n",
    "            x[i], y[i] = float(values[0]), float(values[1])\n",
    "\n",
    "    file.close()\n",
    "    plt.plot(x, y, 'r.')\n",
    "    plt.savefig(\"../results/res01.jpg\")\n",
    "    return x, y, n"
   ],
   "metadata": {
    "collapsed": false,
    "pycharm": {
     "name": "#%%\n"
    }
   }
  },
  {
   "cell_type": "markdown",
   "source": [
    "In this example we can see that we have 2 clusters. Hence, we set k to be equal to 2.\n",
    "<br>\n",
    "In the first step, we start by guessing k random cluster center locations."
   ],
   "metadata": {
    "collapsed": false
   }
  },
  {
   "cell_type": "markdown",
   "source": [
    "Then we continue by finding the closest center to each data point. I did this with the function below.\n",
    "It basically calculates the distance between each cluster center and the data point(x, y) and returns the one\n",
    "with the minimum distance."
   ],
   "metadata": {
    "collapsed": false
   }
  },
  {
   "cell_type": "code",
   "execution_count": null,
   "outputs": [],
   "source": [
    "def assign_cluster(x1, y1, k, clusters_x, clusters_y):\n",
    "    min_distance, cluster = None, 0\n",
    "    for i in range(k):\n",
    "        distance = calculate_distance(x1, y1, clusters_x[i], clusters_y[i])\n",
    "        if min_distance is None or distance < min_distance:\n",
    "            min_distance, cluster = distance, i\n",
    "\n",
    "    return cluster"
   ],
   "metadata": {
    "collapsed": false,
    "pycharm": {
     "name": "#%%\n"
    }
   }
  },
  {
   "cell_type": "code",
   "execution_count": null,
   "outputs": [],
   "source": [
    "def calculate_distance(x1, y1, x2, y2):\n",
    "    return np.power(x1 - x2, 2) + np.power(y1 - y2, 2)"
   ],
   "metadata": {
    "collapsed": false,
    "pycharm": {
     "name": "#%%\n"
    }
   }
  },
  {
   "cell_type": "markdown",
   "source": [
    "After finding the best match for each data point, I continued by updating the center of each cluster to the\n",
    "mean value of the points it owns. Then I repeated this process until the centers did not change."
   ],
   "metadata": {
    "collapsed": false
   }
  },
  {
   "cell_type": "code",
   "execution_count": null,
   "outputs": [],
   "source": [
    "\n",
    "import random\n",
    "\n",
    "\n",
    "def K_means(x, y, n, img_num, convert=False):\n",
    "    # first choose k random points:\n",
    "    k = 2\n",
    "    centers_change = True\n",
    "    clusters_index = random.sample(range(0, n), k)\n",
    "    clusters_x, clusters_y = x[clusters_index], y[clusters_index]\n",
    "    # then iterate until the centers get fixed\n",
    "    while centers_change:\n",
    "        clusters = np.ndarray((n, 1), dtype=int)\n",
    "        for i in range(n):\n",
    "            clusters[i] = assign_cluster(x[i], y[i], k, clusters_x, clusters_y)\n",
    "        prev_centers_x, prev_centers_y = clusters_x.copy(), clusters_y.copy()\n",
    "        if np.array_equal(prev_centers_x, clusters_x) and np.array_equal(prev_centers_y, clusters_y):\n",
    "            centers_change = False\n",
    "            # check if it was in the polar space\n",
    "            if convert:\n",
    "                x, y = convert_to_scalar(x, y)\n",
    "            for cluster_num in range(k):\n",
    "                xx = x[clusters == cluster_num]\n",
    "                yy = y[clusters == cluster_num]\n",
    "                clusters_x[cluster_num] = np.mean(xx, axis=0)\n",
    "                clusters_y[cluster_num] = np.mean(yy, axis=0)\n",
    "                plt.plot(xx, yy, '.')\n",
    "        plt.savefig(\"../results/res0\" + str(img_num) + \".jpg\")\n",
    "        plt.show()\n",
    "\n",
    "def convert_to_scalar(r, theta):\n",
    "    return r * np.cos(theta), r * np.sin(theta)"
   ],
   "metadata": {
    "collapsed": false,
    "pycharm": {
     "name": "#%%\n"
    }
   }
  },
  {
   "cell_type": "markdown",
   "source": [
    "I did this two times for the points in scalar space."
   ],
   "metadata": {
    "collapsed": false
   }
  },
  {
   "cell_type": "code",
   "execution_count": null,
   "outputs": [],
   "source": [
    "x, y, n = readPoints()\n",
    "K_means(x, y, n, 2)\n",
    "K_means(x, y, n, 3)"
   ],
   "metadata": {
    "collapsed": false,
    "pycharm": {
     "name": "#%%\n"
    }
   }
  },
  {
   "cell_type": "markdown",
   "source": [
    "I also wanted to try this in another space. i went with the polar space and used simple formulas to conver x and y to r and theta."
   ],
   "metadata": {
    "collapsed": false
   }
  },
  {
   "cell_type": "code",
   "execution_count": null,
   "outputs": [],
   "source": [
    "r, theta = np.sqrt(np.power(x, 2) + np.power(y, 2)), np.arctan2(y, x)\n",
    "K_means(r, theta, n, 4, convert=True)"
   ],
   "metadata": {
    "collapsed": false,
    "pycharm": {
     "name": "#%%\n"
    }
   }
  }
 ],
 "metadata": {
  "kernelspec": {
   "display_name": "Python 3",
   "language": "python",
   "name": "python3"
  },
  "language_info": {
   "codemirror_mode": {
    "name": "ipython",
    "version": 2
   },
   "file_extension": ".py",
   "mimetype": "text/x-python",
   "name": "python",
   "nbconvert_exporter": "python",
   "pygments_lexer": "ipython2",
   "version": "2.7.6"
  }
 },
 "nbformat": 4,
 "nbformat_minor": 0
}