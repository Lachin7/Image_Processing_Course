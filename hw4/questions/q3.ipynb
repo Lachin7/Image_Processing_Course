{
 "cells": [
  {
   "cell_type": "markdown",
   "metadata": {
    "collapsed": true,
    "pycharm": {
     "name": "#%% md\n"
    }
   },
   "source": [
    "<h1 style=\"color:#8B66FF;\">Question 3</h1>\n",
    "<h2 style=\"color:#659FFF;\">image segmentation using SLIC</h2>\n",
    "I started by resizeing the image and converting it from rgb to lab:"
   ]
  },
  {
   "cell_type": "code",
   "execution_count": null,
   "outputs": [],
   "source": [
    "image = cv2.imread(\"../images/slic.jpg\")\n",
    "scale = 0.125\n",
    "image = cv2.resize(image, (0, 0), fx=scale, fy=scale)\n",
    "height, width, _ = image.shape\n",
    "image_rgb = image.copy()\n",
    "image = cv2.medianBlur(image, 5)\n",
    "image = cv2.cvtColor(image, cv2.COLOR_BGR2LAB).astype(float)"
   ],
   "metadata": {
    "collapsed": false,
    "pycharm": {
     "name": "#%%\n"
    }
   }
  },
  {
   "cell_type": "markdown",
   "source": [
    "Then I generated the gradient of the image using cv2.filter2D and a 3*3 kernel."
   ],
   "metadata": {
    "collapsed": false
   }
  },
  {
   "cell_type": "code",
   "execution_count": null,
   "outputs": [],
   "source": [
    "def generate_gradient():\n",
    "    kernely = np.array([[1, 1, 1], [0, 0, 0], [-1, -1, -1]])\n",
    "    kernelx = np.array([[1, 0, -1], [1, 0, -1], [1, 0, -1]])\n",
    "    edges_x = cv2.filter2D(image, cv2.CV_64F, kernelx)\n",
    "    edges_y = cv2.filter2D(image, cv2.CV_64F, kernely)\n",
    "    return np.mean(np.sqrt(edges_x ** 2 + edges_y ** 2), axis=2)"
   ],
   "metadata": {
    "collapsed": false,
    "pycharm": {
     "name": "#%%\n"
    }
   }
  },
  {
   "cell_type": "markdown",
   "source": [
    "Then I continued by initializing the centers where they have a space of $s$\n",
    " between them and then pertered them in a window of 10 * 10 around them to a place where the\n",
    " gradient is the lowest. I also used the class Center which is basically a representation of\n",
    " a center with the fields of x, y and a label(the number of its segment).\n"
   ],
   "metadata": {
    "collapsed": false,
    "pycharm": {
     "name": "#%% md\n"
    }
   }
  },
  {
   "cell_type": "code",
   "execution_count": null,
   "outputs": [],
   "source": [
    "class Center:\n",
    "    def __init__(self, x, y, label):\n",
    "        self.x = x\n",
    "        self.y = y\n",
    "        self.label = label\n",
    "\n",
    "def generate_initial_centers():\n",
    "    centers_indices_x = np.arange(start=0, stop=width, step=s)\n",
    "    centers_indices_y = np.arange(start=0, stop=height, step=s)\n",
    "\n",
    "    centers = []\n",
    "    label = 0\n",
    "    for y in centers_indices_y:\n",
    "        for x in centers_indices_x:\n",
    "            min_val, center = math.inf, Center(x, y, label)\n",
    "            for j in range(max(0, y - 5), min(height, y + 6)):\n",
    "                for i in range(max(0, x - 5), min(width, x + 6)):\n",
    "                    if gradient[j, i] < min_val:\n",
    "                        min_val, center = gradient[j, i], Center(i, j, label)\n",
    "            centers.append(center)\n",
    "            label += 1\n",
    "\n",
    "    return centers"
   ],
   "metadata": {
    "collapsed": false,
    "pycharm": {
     "name": "#%%\n"
    }
   }
  },
  {
   "cell_type": "markdown",
   "source": [
    "Next I iterated over this image to assign a label to each pixel then re-calculated the center and\n",
    "made it to be the average value of all cells in that segment. I also marked the boundaries based on the label matrix in the last\n",
    "iteration.\n",
    "<br>\n",
    "After testing the code for different values of alpha (the coeff of d_xy) I came to this conclusion\n",
    "that small alphas work better. "
   ],
   "metadata": {
    "collapsed": false
   }
  },
  {
   "cell_type": "code",
   "execution_count": null,
   "outputs": [],
   "source": [
    "\n",
    "# defining the constants:\n",
    "k = 64\n",
    "s = math.floor(math.sqrt((height * width) / k))\n",
    "alpha = 0.05\n",
    "\n",
    "gradient = generate_gradient()\n",
    "centers = generate_initial_centers()\n",
    "for iteration in range(5):\n",
    "    labels = assign_centers()\n",
    "    generate_new_centers()\n",
    "    if iteration == 4:\n",
    "        image = cv2.cvtColor(image_rgb, cv2.COLOR_BGR2RGB)\n",
    "        image = mark_boundaries(image, labels, color=(255, 255, 255))\n",
    "        image = cv2.resize(image, (0, 0), fx=1 / scale, fy=1 / scale)\n",
    "        image.astype('uint8')\n",
    "        plt.imsave('res10.jpg', image)"
   ],
   "metadata": {
    "collapsed": false,
    "pycharm": {
     "name": "#%%\n"
    }
   }
  },
  {
   "cell_type": "code",
   "execution_count": null,
   "outputs": [],
   "source": [
    "\n",
    "def distance(xk, xn, yk, yn, img):\n",
    "    d_lab = np.linalg.norm(img[yk, xk, :] - img[yn, xn, :])\n",
    "    d_xy = (xk - xn) ** 2 + (yk - yn) ** 2\n",
    "    return d_lab + alpha * d_xy\n",
    "\n",
    "\n",
    "def assign_centers():\n",
    "    # in the third dimension, the first one stores the min value of the match found and the second one labels it\n",
    "    matches, labels = np.full((height, width), np.inf), np.full((height, width), -11)\n",
    "    for center in centers:\n",
    "        y, x = center.y, center.x\n",
    "        y_min, y_max, x_min, x_max = max(0, y - s), min(height, y + s + 1), max(0, x - s), min(width, x + s + 1)\n",
    "        for j in range(y_min, y_max):\n",
    "            for i in range(x_min, x_max):\n",
    "                dist = distance(i, x, j, y, image)\n",
    "                if matches[j, i] > dist:\n",
    "                    matches[j, i] = dist\n",
    "                    labels[j, i] = center.label\n",
    "    return labels\n",
    "\n",
    "\n",
    "def generate_new_centers():\n",
    "    for center in centers:\n",
    "        cluster = np.argwhere(labels == center.label)\n",
    "        if len(cluster) > 0:\n",
    "            center.x, center.y = int(np.mean(cluster[:, 1])), int(np.mean(cluster[:, 0]))\n"
   ],
   "metadata": {
    "collapsed": false,
    "pycharm": {
     "name": "#%%\n"
    }
   }
  }
 ],
 "metadata": {
  "kernelspec": {
   "display_name": "Python 3",
   "language": "python",
   "name": "python3"
  },
  "language_info": {
   "codemirror_mode": {
    "name": "ipython",
    "version": 2
   },
   "file_extension": ".py",
   "mimetype": "text/x-python",
   "name": "python",
   "nbconvert_exporter": "python",
   "pygments_lexer": "ipython2",
   "version": "2.7.6"
  }
 },
 "nbformat": 4,
 "nbformat_minor": 0
}